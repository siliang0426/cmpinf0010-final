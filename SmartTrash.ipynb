{
 "cells": [
  {
   "cell_type": "markdown",
   "metadata": {},
   "source": [
    "# Best Neiborhood in Pittsburgh(Smart Trash Container part)"
   ]
  },
  {
   "cell_type": "markdown",
   "metadata": {},
   "source": [
    "> Introduction:\n",
    "    During this part of the Best Neiborhood analysis, we will be analyzing the Smart trash container of the neiborhood of Pittsburgh to analyze the best Neiborhood based on the data of the number of Smart Trash Contrainer."
   ]
  },
  {
   "cell_type": "code",
   "execution_count": 139,
   "metadata": {},
   "outputs": [],
   "source": [
    "#import\n",
    "import pandas as pd\n",
    "import numpy as np\n",
    "import matplotlib.pyplot as plt"
   ]
  },
  {
   "cell_type": "code",
   "execution_count": 147,
   "metadata": {},
   "outputs": [
    {
     "name": "stdout",
     "output_type": "stream",
     "text": [
      "The average Smart trash can of Pittsburgh Neiborhoods is 13.5\n"
     ]
    }
   ],
   "source": [
    "#Read dataset and calculating the average Smart trash can of Pittsburgh Neiborhoods\n",
    "st = pd.read_csv(\"Smart_trash_container.csv\")\n",
    "st.set_index(\"zip\", inplace=True)\n",
    "formated = '{0:.3g}'. format(st[\"ward\"].mean())\n",
    "print(\"The average Smart trash can of Pittsburgh Neiborhoods is\",formated)"
   ]
  },
  {
   "cell_type": "code",
   "execution_count": 148,
   "metadata": {},
   "outputs": [
    {
     "data": {
      "text/plain": [
       "neighborhood\n",
       "Allegheny Center             221.0 \n",
       "Allegheny West               330.0 \n",
       "Allentown                    216.0 \n",
       "Arlington                    48.0  \n",
       "Banksville                   40.0  \n",
       "Bedford Dwellings            15.0  \n",
       "Beechview                    153.0 \n",
       "Beltzhoover                  36.0  \n",
       "Bloomfield                   495.0 \n",
       "Bluff                        35.0  \n",
       "Brighton Heights             648.0 \n",
       "Brookline                    342.0 \n",
       "California-Kirkbride         100.0 \n",
       "Carrick                      1189.0\n",
       "Central Business District    17.0  \n",
       "Central Lawrenceville        261.0 \n",
       "Central Northside            229.0 \n",
       "Central Oakland              176.0 \n",
       "Chateau                      84.0  \n",
       "Crafton Heights              220.0 \n",
       "Crawford-Roberts             67.0  \n",
       "Duquesne Heights             57.0  \n",
       "East Allegheny               621.0 \n",
       "East Carnegie                28.0  \n",
       "East Hills                   39.0  \n",
       "East Liberty                 747.0 \n",
       "Elliott                      180.0 \n",
       "Fineview                     75.0  \n",
       "Friendship                   96.0  \n",
       "Garfield                     84.0  \n",
       "Greenfield                   210.0 \n",
       "Hazelwood                    300.0 \n",
       "Highland Park                132.0 \n",
       "Homewood North               91.0  \n",
       "Homewood South               403.0 \n",
       "Homewood West                48.0  \n",
       "Knoxville                    210.0 \n",
       "Larimer                      180.0 \n",
       "Lincoln Place                93.0  \n",
       "Lincoln-Lemington-Belmar     84.0  \n",
       "Lower Lawrenceville          186.0 \n",
       "Manchester                   126.0 \n",
       "Marshall-Shadeland           399.0 \n",
       "Middle Hill                  165.0 \n",
       "Morningside                  90.0  \n",
       "Mount Washington             473.0 \n",
       "Mt. Oliver                   16.0  \n",
       "North Oakland                68.0  \n",
       "North Shore                  1210.0\n",
       "Northview Heights            26.0  \n",
       "Oakwood                      28.0  \n",
       "Perry North                  416.0 \n",
       "Perry South                  155.0 \n",
       "Point Breeze                 224.0 \n",
       "Point Breeze North           28.0  \n",
       "Polish Hill                  72.0  \n",
       "Regent Square                126.0 \n",
       "Shadyside                    546.0 \n",
       "Sheraden                     320.0 \n",
       "South Oakland                32.0  \n",
       "South Shore                  19.0  \n",
       "South Side Flats             1106.0\n",
       "South Side Slopes            151.0 \n",
       "Spring Garden                74.0  \n",
       "Spring Hill-City View        98.0  \n",
       "Squirrel Hill North          294.0 \n",
       "Squirrel Hill South          953.0 \n",
       "St. Clair                    16.0  \n",
       "Stanton Heights              20.0  \n",
       "Strip District               126.0 \n",
       "Swisshelm Park               14.0  \n",
       "Terrace Village              30.0  \n",
       "Troy Hill                    359.0 \n",
       "Upper Hill                   40.0  \n",
       "Upper Lawrenceville          160.0 \n",
       "West End                     180.0 \n",
       "West Oakland                 36.0  \n",
       "Westwood                     140.0 \n",
       "Windgap                      28.0  \n",
       "Name: ward, dtype: float64"
      ]
     },
     "execution_count": 148,
     "metadata": {},
     "output_type": "execute_result"
    }
   ],
   "source": [
    "#find the sum of the total rash can\n",
    "pd.set_option('display.max_rows', None) \n",
    "st.groupby(\"neighborhood\")['ward'].sum()"
   ]
  },
  {
   "cell_type": "code",
   "execution_count": 142,
   "metadata": {},
   "outputs": [
    {
     "data": {
      "text/plain": [
       "neighborhood\n",
       "Allegheny Center             22.100000\n",
       "Allegheny West               22.000000\n",
       "Allentown                    3.600000 \n",
       "Arlington                    5.333333 \n",
       "Banksville                   4.000000 \n",
       "Bedford Dwellings            1.666667 \n",
       "Beechview                    3.825000 \n",
       "Beltzhoover                  3.600000 \n",
       "Bloomfield                   4.125000 \n",
       "Bluff                        0.324074 \n",
       "Brighton Heights             27.000000\n",
       "Brookline                    3.800000 \n",
       "California-Kirkbride         25.000000\n",
       "Carrick                      9.666667 \n",
       "Central Business District    0.404762 \n",
       "Central Lawrenceville        4.500000 \n",
       "Central Northside            22.900000\n",
       "Central Oakland              1.333333 \n",
       "Chateau                      4.421053 \n",
       "Crafton Heights              4.888889 \n",
       "Crawford-Roberts             1.063492 \n",
       "Duquesne Heights             3.800000 \n",
       "East Allegheny               23.000000\n",
       "East Carnegie                5.600000 \n",
       "East Hills                   6.500000 \n",
       "East Liberty                 5.187500 \n",
       "Elliott                      4.000000 \n",
       "Fineview                     25.000000\n",
       "Friendship                   4.000000 \n",
       "Garfield                     5.250000 \n",
       "Greenfield                   5.000000 \n",
       "Hazelwood                    5.000000 \n",
       "Highland Park                5.500000 \n",
       "Homewood North               6.500000 \n",
       "Homewood South               6.500000 \n",
       "Homewood West                6.000000 \n",
       "Knoxville                    6.000000 \n",
       "Larimer                      6.000000 \n",
       "Lincoln Place                10.333333\n",
       "Lincoln-Lemington-Belmar     6.000000 \n",
       "Lower Lawrenceville          2.818182 \n",
       "Manchester                   21.000000\n",
       "Marshall-Shadeland           26.600000\n",
       "Middle Hill                  1.666667 \n",
       "Morningside                  5.000000 \n",
       "Mount Washington             3.784000 \n",
       "Mt. Oliver                   5.333333 \n",
       "North Oakland                1.416667 \n",
       "North Shore                  3.666667 \n",
       "Northview Heights            26.000000\n",
       "Oakwood                      5.600000 \n",
       "Perry North                  26.000000\n",
       "Perry South                  25.833333\n",
       "Point Breeze                 4.666667 \n",
       "Point Breeze North           7.000000 \n",
       "Polish Hill                  1.000000 \n",
       "Regent Square                4.666667 \n",
       "Shadyside                    3.500000 \n",
       "Sheraden                     4.000000 \n",
       "South Oakland                1.333333 \n",
       "South Shore                  3.800000 \n",
       "South Side Flats             5.585859 \n",
       "South Side Slopes            5.592593 \n",
       "Spring Garden                24.666667\n",
       "Spring Hill-City View        24.500000\n",
       "Squirrel Hill North          4.666667 \n",
       "Squirrel Hill South          4.671569 \n",
       "St. Clair                    5.333333 \n",
       "Stanton Heights              5.000000 \n",
       "Strip District               0.428571 \n",
       "Swisshelm Park               4.666667 \n",
       "Terrace Village              1.666667 \n",
       "Troy Hill                    23.933333\n",
       "Upper Hill                   1.666667 \n",
       "Upper Lawrenceville          5.000000 \n",
       "West End                     4.000000 \n",
       "West Oakland                 1.333333 \n",
       "Westwood                     5.600000 \n",
       "Windgap                      5.600000 \n",
       "dtype: float64"
      ]
     },
     "execution_count": 142,
     "metadata": {},
     "output_type": "execute_result"
    }
   ],
   "source": [
    "#how many trash can does a dpw_divison responding for\n",
    "pd.set_option('display.max_rows', None) \n",
    "st.groupby(\"neighborhood\")['ward'].sum() / st.groupby(\"neighborhood\")['dpw_division'].sum()"
   ]
  },
  {
   "cell_type": "code",
   "execution_count": 159,
   "metadata": {},
   "outputs": [
    {
     "name": "stdout",
     "output_type": "stream",
     "text": [
      "22.1\n"
     ]
    }
   ],
   "source": [
    "st[\"neiborhood\"] = st.groupby(\"neighborhood\")['ward'].sum() / st.groupby(\"neighborhood\")['dpw_division'].sum()\n",
    "a = []\n",
    "for i in s:\n",
    "    a = s\n",
    "print(a[0])\n",
    "#st['ave'].plot(kind=\"bar\", width = .4, figsize=(25,10), ylim =(0,1))\n"
   ]
  },
  {
   "cell_type": "code",
   "execution_count": 121,
   "metadata": {},
   "outputs": [],
   "source": [
    "\n"
   ]
  },
  {
   "cell_type": "code",
   "execution_count": null,
   "metadata": {},
   "outputs": [],
   "source": []
  }
 ],
 "metadata": {
  "kernelspec": {
   "display_name": "Python 3",
   "language": "python",
   "name": "python3"
  },
  "language_info": {
   "codemirror_mode": {
    "name": "ipython",
    "version": 3
   },
   "file_extension": ".py",
   "mimetype": "text/x-python",
   "name": "python",
   "nbconvert_exporter": "python",
   "pygments_lexer": "ipython3",
   "version": "3.8.3"
  }
 },
 "nbformat": 4,
 "nbformat_minor": 4
}
