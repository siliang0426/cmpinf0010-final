{
 "cells": [
  {
   "cell_type": "markdown",
   "metadata": {},
   "source": [
    "# Best Neiborhood in Pittsburgh(Smart Trash Container part)"
   ]
  },
  {
   "cell_type": "markdown",
   "metadata": {},
   "source": [
    "> Introduction:\n",
    "    During this part of the Best Neiborhood analysis, we will be analyzing the Smart trash container of the neiborhood of Pittsburgh to analyze the best Neiborhood based on the data of the number of Smart Trash Contrainer."
   ]
  },
  {
   "cell_type": "code",
   "execution_count": 21,
   "metadata": {},
   "outputs": [],
   "source": [
    "#import\n",
    "import pandas as pd\n",
    "import numpy as np\n",
    "import matplotlib.pyplot as plt"
   ]
  },
  {
   "cell_type": "code",
   "execution_count": 41,
   "metadata": {},
   "outputs": [
    {
     "name": "stdout",
     "output_type": "stream",
     "text": [
      "The average Smart trash can of Pittsburgh per Neiborhoods is 13.5\n"
     ]
    }
   ],
   "source": [
    "#Read dataset and calculating the average Smart trash can of Pittsburgh Neiborhoods\n",
    "st = pd.read_csv(\"https://data.wprdc.org/datastore/dump/75b83ac9-8069-4cf1-bcc3-b9e6b04487d9\")\n",
    "st.set_index(\"neighborhood\", inplace=True)\n",
    "formated = '{0:.3g}'. format(st[\"ward\"].mean())\n",
    "print(\"The average Smart trash can of Pittsburgh per Neiborhoods is\",formated)"
   ]
  },
  {
   "cell_type": "code",
   "execution_count": 39,
   "metadata": {},
   "outputs": [
    {
     "data": {
      "text/plain": [
       "neighborhood\n",
       "North Shore            1210.0\n",
       "Carrick                1189.0\n",
       "South Side Flats       1106.0\n",
       "Squirrel Hill South     953.0\n",
       "East Liberty            747.0\n",
       "Brighton Heights        648.0\n",
       "East Allegheny          621.0\n",
       "Shadyside               546.0\n",
       "Bloomfield              495.0\n",
       "Mount Washington        473.0\n",
       "Name: ward, dtype: float64"
      ]
     },
     "execution_count": 39,
     "metadata": {},
     "output_type": "execute_result"
    }
   ],
   "source": [
    "#find the sum of the total rash can\n",
    "pd.set_option('display.max_rows', None) \n",
    "stSum = st.groupby(\"neighborhood\")['ward'].sum()\n",
    "stSum = stSum.sort_values(ascending=False)\n",
    "stSum.head(10)"
   ]
  },
  {
   "cell_type": "code",
   "execution_count": 42,
   "metadata": {},
   "outputs": [
    {
     "data": {
      "text/plain": [
       "neighborhood\n",
       "Middle Hill                  1.666667\n",
       "North Oakland                1.416667\n",
       "Central Oakland              1.333333\n",
       "South Oakland                1.333333\n",
       "West Oakland                 1.333333\n",
       "Crawford-Roberts             1.063492\n",
       "Polish Hill                  1.000000\n",
       "Strip District               0.428571\n",
       "Central Business District    0.404762\n",
       "Bluff                        0.324074\n",
       "dtype: float64"
      ]
     },
     "execution_count": 42,
     "metadata": {},
     "output_type": "execute_result"
    }
   ],
   "source": [
    "#how many trash can does a dpw_divison responding for\n",
    "pd.set_option('display.max_rows', None) \n",
    "st2 = st.groupby(\"neighborhood\")['ward'].sum() / st.groupby(\"neighborhood\")['dpw_division'].sum()\n",
    "st2 = st2.sort_values(ascending=False)\n",
    "st2.tail(10)"
   ]
  },
  {
   "cell_type": "code",
   "execution_count": null,
   "metadata": {},
   "outputs": [
    {
     "data": {
      "text/plain": [
       "<matplotlib.axes._subplots.AxesSubplot at 0x7f6dcb734460>"
      ]
     },
     "execution_count": 43,
     "metadata": {},
     "output_type": "execute_result"
    }
   ],
   "source": [
    "#Data visualization\n",
    "st2 = st.groupby('neighborhood').sum()\n",
    "#st1 = st1.sort_values(['ward'], ascending = [False])\n",
    "st2 = st1.filter(items = ['neighborhood', 'ward'])\n",
    "#st1.title(\"The total trash can placeed in neighborhood\")\n",
    "st2.plot.bar(figsize = (25, 4), title =\"The total trash can placeed in neighborhood\")\n"
   ]
  },
  {
   "cell_type": "markdown",
   "metadata": {},
   "source": [
    "### Conclusion:\n",
    "    During this part of the Best Neiborhood analysis, we have done the analyzing the trash can part, although North Shore have the most smart trash can, however, Bluff Height have the most dpw divison response for one trash can."
   ]
  },
  {
   "cell_type": "code",
   "execution_count": null,
   "metadata": {},
   "outputs": [],
   "source": []
  }
 ],
 "metadata": {
  "kernelspec": {
   "display_name": "Python 3",
   "language": "python",
   "name": "python3"
  },
  "language_info": {
   "codemirror_mode": {
    "name": "ipython",
    "version": 3
   },
   "file_extension": ".py",
   "mimetype": "text/x-python",
   "name": "python",
   "nbconvert_exporter": "python",
   "pygments_lexer": "ipython3",
   "version": "3.8.3"
  }
 },
 "nbformat": 4,
 "nbformat_minor": 4
}
